{
 "cells": [
  {
   "cell_type": "markdown",
   "metadata": {},
   "source": [
    "# Chi-Squared to select features"
   ]
  },
  {
   "cell_type": "markdown",
   "metadata": {},
   "source": [
    "## Import necessary tools"
   ]
  },
  {
   "cell_type": "code",
   "execution_count": 1,
   "metadata": {},
   "outputs": [],
   "source": [
    "import numpy as np\n",
    "import pandas as pd\n",
    "from scipy.stats import chi2_contingency\n",
    "from scipy.stats import chi2"
   ]
  },
  {
   "cell_type": "markdown",
   "metadata": {},
   "source": [
    "A common problem in applied machine learning is determining whether input features are relevant to the outcome to be predicted.\n",
    "\n",
    "This is the problem of feature selection.\n",
    "\n",
    "In the case of *classification* problems where *input* variables are *also categorical*, we can use statistical tests to determine whether the output variable is dependent or independent of the input variables. If independent, then the input variable is a candidate for a feature that may be irrelevant to the problem and removed from the dataset.\n",
    "\n",
    "The Pearson’s chi-squared statistical hypothesis is an example of a test for independence between categorical variables.\n",
    "\n",
    "In this tutorial, you will discover the chi-squared statistical hypothesis test for quantifying the independence of pairs of categorical variables.\n",
    "\n",
    "After completing this tutorial, you will know:\n",
    "\n",
    "- Pairs of categorical variables can be summarized using a contingency table.\n",
    "- The chi-squared test can compare an observed contingency table to an expected table and determine if the categorical variables are independent.\n",
    "- How to calculate and interpret the chi-squared test for categorical variables in Python.\n",
    "\n",
    "Let’s get started.\n",
    "1. Contingency Table\n",
    "2. Pearson’s Chi-Squared Test\n",
    "3. Example Chi-Squared Test\n",
    "\n",
    "# Contingency Table\n",
    "\n",
    "A categorical variable is a variable that may take on one of a set of labels.\n",
    "\n",
    "An example might be sex, which may be summarized as male or female. The variable is ‘sex‘ and the labels or factors of the variable are ‘male‘ and ‘female‘ in this case.\n",
    "\n",
    "We may wish to look at a summary of a categorical variable as it pertains to another categorical variable. For example, sex and interest, where interest may have the labels ‘science‘, ‘math‘, or ‘art‘. We can collect observations from people collected with regard to these two categorical variables; for example:\n",
    "```\n",
    "Sex,\tInterest\n",
    "Male,\tArt\n",
    "Female,\tMath\n",
    "Male, \tScience\n",
    "Male,\tMath\n",
    "...\n",
    "```\n",
    "We can summarize the collected observations in a table with one variable corresponding to columns and another variable corresponding to rows. Each cell in the table corresponds to the count or frequency of observations that correspond to the row and column categories.\n",
    "\n",
    "Historically, a table summarization of two categorical variables in this form is called a contingency table.\n",
    "\n",
    "For example, the Sex=rows and Interest=columns table with contrived counts might look as follows:\n",
    "```\n",
    "        Science,\tMath,\tArt\n",
    "Male         20,      30,    15\n",
    "Female       20,      15,    30\n",
    "```"
   ]
  },
  {
   "cell_type": "markdown",
   "metadata": {},
   "source": [
    "# Create contingency table\n",
    "First, we have to create a contingency table."
   ]
  },
  {
   "cell_type": "code",
   "execution_count": 2,
   "metadata": {},
   "outputs": [
    {
     "data": {
      "text/html": [
       "<div>\n",
       "<style scoped>\n",
       "    .dataframe tbody tr th:only-of-type {\n",
       "        vertical-align: middle;\n",
       "    }\n",
       "\n",
       "    .dataframe tbody tr th {\n",
       "        vertical-align: top;\n",
       "    }\n",
       "\n",
       "    .dataframe thead th {\n",
       "        text-align: right;\n",
       "    }\n",
       "</style>\n",
       "<table border=\"1\" class=\"dataframe\">\n",
       "  <thead>\n",
       "    <tr style=\"text-align: right;\">\n",
       "      <th></th>\n",
       "      <th>sex</th>\n",
       "      <th>interests</th>\n",
       "    </tr>\n",
       "  </thead>\n",
       "  <tbody>\n",
       "    <tr>\n",
       "      <th>0</th>\n",
       "      <td>Female</td>\n",
       "      <td>Art</td>\n",
       "    </tr>\n",
       "    <tr>\n",
       "      <th>1</th>\n",
       "      <td>Male</td>\n",
       "      <td>Math</td>\n",
       "    </tr>\n",
       "    <tr>\n",
       "      <th>2</th>\n",
       "      <td>Male</td>\n",
       "      <td>Art</td>\n",
       "    </tr>\n",
       "    <tr>\n",
       "      <th>3</th>\n",
       "      <td>Female</td>\n",
       "      <td>Art</td>\n",
       "    </tr>\n",
       "    <tr>\n",
       "      <th>4</th>\n",
       "      <td>Male</td>\n",
       "      <td>Math</td>\n",
       "    </tr>\n",
       "  </tbody>\n",
       "</table>\n",
       "</div>"
      ],
      "text/plain": [
       "      sex interests\n",
       "0  Female       Art\n",
       "1    Male      Math\n",
       "2    Male       Art\n",
       "3  Female       Art\n",
       "4    Male      Math"
      ]
     },
     "execution_count": 2,
     "metadata": {},
     "output_type": "execute_result"
    }
   ],
   "source": [
    "n = 130  # Number of samples.\n",
    "d = 1  # Dimensionality. (sex)\n",
    "c = 2  # Number of categories. (science, math, art)\n",
    "\n",
    "sex_series = np.random.choice(['Male', 'Female'], size=(n,d))\n",
    "interest_series = np.random.choice(['Art', 'Math', 'Science'], size=(n,d))\n",
    "\n",
    "d = {'sex': sex_series, 'interests': interest_series}\n",
    "\n",
    "data1 = pd.DataFrame.from_dict(list(d['sex']))\n",
    "data2 = pd.DataFrame.from_dict(list(d['interests']))\n",
    "data = pd.concat([data1, data2], axis=1)\n",
    "data.columns = ['sex', 'interests']\n",
    "data.head()"
   ]
  },
  {
   "cell_type": "code",
   "execution_count": 3,
   "metadata": {},
   "outputs": [
    {
     "data": {
      "text/plain": [
       "Male      68\n",
       "Female    62\n",
       "Name: sex, dtype: int64"
      ]
     },
     "execution_count": 3,
     "metadata": {},
     "output_type": "execute_result"
    }
   ],
   "source": [
    "data.sex.value_counts()"
   ]
  },
  {
   "cell_type": "code",
   "execution_count": 4,
   "metadata": {},
   "outputs": [
    {
     "data": {
      "text/plain": [
       "Science    46\n",
       "Math       46\n",
       "Art        38\n",
       "Name: interests, dtype: int64"
      ]
     },
     "execution_count": 4,
     "metadata": {},
     "output_type": "execute_result"
    }
   ],
   "source": [
    "data.interests.value_counts()"
   ]
  },
  {
   "cell_type": "markdown",
   "metadata": {},
   "source": [
    "Now we are ready to create the contingency table.\n",
    "Use pd.crosstab(index, column) to convert the dataframe. The parameters are:\n",
    "\n",
    "- index : array-like, Series, or list of arrays/Series\n",
    "    - Values to group by in the rows.\n",
    "\n",
    "- columns : array-like, Series, or list of arrays/Series\n",
    "    - Values to group by in the columns."
   ]
  },
  {
   "cell_type": "code",
   "execution_count": 5,
   "metadata": {},
   "outputs": [
    {
     "data": {
      "text/html": [
       "<div>\n",
       "<style scoped>\n",
       "    .dataframe tbody tr th:only-of-type {\n",
       "        vertical-align: middle;\n",
       "    }\n",
       "\n",
       "    .dataframe tbody tr th {\n",
       "        vertical-align: top;\n",
       "    }\n",
       "\n",
       "    .dataframe thead th {\n",
       "        text-align: right;\n",
       "    }\n",
       "</style>\n",
       "<table border=\"1\" class=\"dataframe\">\n",
       "  <thead>\n",
       "    <tr style=\"text-align: right;\">\n",
       "      <th>interests</th>\n",
       "      <th>Art</th>\n",
       "      <th>Math</th>\n",
       "      <th>Science</th>\n",
       "    </tr>\n",
       "    <tr>\n",
       "      <th>sex</th>\n",
       "      <th></th>\n",
       "      <th></th>\n",
       "      <th></th>\n",
       "    </tr>\n",
       "  </thead>\n",
       "  <tbody>\n",
       "    <tr>\n",
       "      <th>Female</th>\n",
       "      <td>19</td>\n",
       "      <td>22</td>\n",
       "      <td>21</td>\n",
       "    </tr>\n",
       "    <tr>\n",
       "      <th>Male</th>\n",
       "      <td>19</td>\n",
       "      <td>24</td>\n",
       "      <td>25</td>\n",
       "    </tr>\n",
       "  </tbody>\n",
       "</table>\n",
       "</div>"
      ],
      "text/plain": [
       "interests  Art  Math  Science\n",
       "sex                          \n",
       "Female      19    22       21\n",
       "Male        19    24       25"
      ]
     },
     "execution_count": 5,
     "metadata": {},
     "output_type": "execute_result"
    }
   ],
   "source": [
    "# Contingency table.\n",
    "contingency = pd.crosstab(data['sex'], data['interests'])\n",
    "contingency"
   ]
  },
  {
   "cell_type": "markdown",
   "metadata": {},
   "source": [
    "The table was called a contingency table, by Karl Pearson, because the intent is to help determine whether one variable is contingent upon or depends upon the other variable. For example, does an interest in math or science depend on gender, or are they independent?\n",
    "\n",
    "This is challenging to determine from the table alone; instead, we can use a statistical method called the Pearson’s Chi-Squared test.\n",
    "\n",
    "# Pearson’s Chi-Squared Test\n",
    "The Pearson’s Chi-Squared test, or just Chi-Squared test for short, is named for Karl Pearson, although there are variations on the test.\n",
    "\n",
    "The Chi-Squared test is a statistical hypothesis test that assumes (the null hypothesis) that the *observed* frequencies for a categorical variable match the *expected* frequencies for the categorical variable. The test calculates a statistic that has a chi-squared distribution, named for the Greek capital letter Chi (X) pronounced “ki” as in kite.\n",
    "\n",
    "Given the Sex/Interest example above, the number of observations for a category (such as male and female) may or may not be the same. Nevertheless, we can calculate the expected frequency of observations in each Interest group and see whether the partitioning of interests by Sex results in similar or different frequencies.\n",
    "\n",
    "The Chi-Squared test does this for a contingency table, first calculating the expected frequencies for the groups, then determining whether the division of the groups, called the observed frequencies, matches the expected frequencies.\n",
    "\n",
    "The result of the test is a test statistic that has a chi-squared distribution and can be interpreted to reject or fail to reject the assumption or null hypothesis that the observed and expected frequencies are the same.\n",
    "```\n",
    "When observed frequency is far from the expected frequency, the corresponding term in the sum is large; when the two are close, this term is small. Large values of X^2 indicate that observed and expected frequencies are far apart. Small values of X^2 mean the opposite: observeds are close to expecteds. So X^2 does give a measure of the distance between observed and expected frequencies.\n",
    "\n",
    "— Page 525, Statistics, Fourth Edition, 2007.\n",
    "```\n",
    "The variables are considered independent if the observed and expected frequencies are similar, that the levels of the variables do not interact, are not dependent.\n",
    "```\n",
    "The chi-square test of independence works by comparing the categorically coded data that you have collected (known as the observed frequencies) with the frequencies that you would expect to get in each cell of a table by chance alone (known as the expected frequencies).\n",
    "\n",
    "— Page 162, Statistics in Plain English, Third Edition, 2010.\n",
    "```\n",
    "We can interpret the test statistic in the context of the chi-squared distribution with the requisite number of degress of freedom as follows:\n",
    "\n",
    "- *If Statistic >= Critical Value:* significant result, reject null hypothesis (H0), dependent.\n",
    "- *If Statistic < Critical Value:* not significant result, fail to reject null hypothesis (H0), independent.\n",
    "\n",
    "The degrees of freedom for the chi-squared distribution is calculated based on the size of the contingency table as:\n",
    "```\n",
    "degrees of freedom: (rows - 1) * (cols - 1)\n",
    "```\n",
    "In terms of a p-value and a chosen significance level (alpha), the test can be interpreted as follows:\n",
    "\n",
    "- *If p-value <= alpha:* significant result, reject null hypothesis (H0), dependent.\n",
    "- *If p-value > alpha:* not significant result, fail to reject null hypothesis (H0), independent.\n",
    "\n",
    "For the test to be effective, at least five observations are required in each cell of the contingency table.\n",
    "\n",
    "Next, let’s look at how we can calculate the chi-squared test.\n",
    "\n",
    "# Example Chi-Squared Test\n",
    "The Pearson’s chi-squared test for independence can be calculated in Python using the chi2_contingency() SciPy function.\n",
    "\n",
    "The function takes an array as input representing the contingency table for the two categorical variables. It returns the calculated statistic and p-value for interpretation as well as the calculated degrees of freedom and table of expected frequencies."
   ]
  },
  {
   "cell_type": "code",
   "execution_count": 6,
   "metadata": {},
   "outputs": [
    {
     "data": {
      "text/plain": [
       "pandas.core.frame.DataFrame"
      ]
     },
     "execution_count": 6,
     "metadata": {},
     "output_type": "execute_result"
    }
   ],
   "source": [
    "type(contingency)"
   ]
  },
  {
   "cell_type": "code",
   "execution_count": 7,
   "metadata": {},
   "outputs": [],
   "source": [
    "# Chi-square test of independence.\n",
    "stat, p, dof, expected = chi2_contingency(contingency)"
   ]
  },
  {
   "cell_type": "code",
   "execution_count": 8,
   "metadata": {},
   "outputs": [
    {
     "name": "stdout",
     "output_type": "stream",
     "text": [
      "stat: 0.15819651843907281\n",
      "p: 0.9239491334638888\n",
      "dof: 2\n",
      "expected: [[18.12307692 21.93846154 21.93846154]\n",
      " [19.87692308 24.06153846 24.06153846]]\n"
     ]
    }
   ],
   "source": [
    "print('stat:', stat)\n",
    "print('p:', p)\n",
    "print('dof:', dof)\n",
    "print('expected:', expected)"
   ]
  },
  {
   "cell_type": "markdown",
   "metadata": {},
   "source": [
    "We can interpret the statistic by retrieving the critical value from the chi-squared distribution for the probability and number of degrees of freedom.\n",
    "\n",
    "For example, a probability of 95% can be used, suggesting that the finding of the test is quite likely given the assumption of the test that the variable is independent. If the statistic is less than or equal to the critical value, we can fail to reject this assumption, otherwise it can be rejected."
   ]
  },
  {
   "cell_type": "code",
   "execution_count": 9,
   "metadata": {},
   "outputs": [
    {
     "name": "stdout",
     "output_type": "stream",
     "text": [
      "Independent (fail to reject H0)\n"
     ]
    }
   ],
   "source": [
    "# interpret test-statistic\n",
    "prob = 0.95\n",
    "critical = chi2.ppf(prob, dof)\n",
    "if abs(stat) >= critical:\n",
    "    print('Dependent (reject H0)')\n",
    "else:\n",
    "    print('Independent (fail to reject H0)')"
   ]
  },
  {
   "cell_type": "markdown",
   "metadata": {},
   "source": [
    "We can also interpret the p-value by comparing it to a chosen significance level, which would be 5%, calculated by inverting the 95% probability used in the critical value interpretation."
   ]
  },
  {
   "cell_type": "code",
   "execution_count": 10,
   "metadata": {},
   "outputs": [
    {
     "name": "stdout",
     "output_type": "stream",
     "text": [
      "Independent (fail to reject H0)\n"
     ]
    }
   ],
   "source": [
    "# interpret p-value\n",
    "alpha = 1.0 - prob\n",
    "if p <= alpha:\n",
    "    print('Dependent (reject H0)')\n",
    "else:\n",
    "    print('Independent (fail to reject H0)')"
   ]
  },
  {
   "cell_type": "code",
   "execution_count": 11,
   "metadata": {},
   "outputs": [
    {
     "name": "stdout",
     "output_type": "stream",
     "text": [
      "original contingency table:\n",
      "interests  Art  Math  Science\n",
      "sex                          \n",
      "Female      19    22       21\n",
      "Male        19    24       25\n",
      "\n",
      "degrees of freedom (dof) = 2\n",
      "\n",
      "calculated expected frequency table:\n",
      "[[18.12307692 21.93846154 21.93846154]\n",
      " [19.87692308 24.06153846 24.06153846]]\n",
      "\n",
      "INTERPRET TEST-STATISTIC (prob = 0.95):\n",
      "probability=0.950, critical=5.991, stat=0.158\n",
      "so compare absolute value of stat, 0.158, and critical, 5.991:\n",
      "\n",
      "abs(stat) < critical\n",
      "0.158 < 5.991\n",
      "Independent (fail to reject H0)\n",
      "\n",
      "INTERPRET P-VALUE (alpha = 1 - prob = .05):\n",
      "p=0.924, significance=0.050\n",
      "so compare p, 0.924, with alpha, 0.050:\n",
      "\n",
      "p > alpha\n",
      "0.924 > 0.050\n",
      "Independent (fail to reject H0)\n"
     ]
    }
   ],
   "source": [
    "print('original contingency table:')\n",
    "print(contingency)\n",
    "print()\n",
    "\n",
    "print('degrees of freedom (dof) = %d' % dof)\n",
    "print()\n",
    "print('calculated expected frequency table:')\n",
    "print(expected)\n",
    "print()\n",
    "\n",
    "# interpret test-statistic\n",
    "print('INTERPRET TEST-STATISTIC (prob = 0.95):')\n",
    "prob = 0.95\n",
    "critical = chi2.ppf(prob, dof)\n",
    "print('probability=%.3f, critical=%.3f, stat=%.3f' % (prob, critical, stat))\n",
    "print('so compare absolute value of stat, %.3f, and critical, %.3f:' % (stat, critical))\n",
    "print()\n",
    "if abs(stat) >= critical:\n",
    "    print('abs(stat) >= critical')\n",
    "    print('%.3f >= %.3f' % (abs(stat), critical))\n",
    "    print('Dependent (reject H0)')\n",
    "else:\n",
    "    print('abs(stat) < critical')\n",
    "    print('%.3f < %.3f' % (abs(stat), critical))          \n",
    "    print('Independent (fail to reject H0)')\n",
    "print()\n",
    "print('INTERPRET P-VALUE (alpha = 1 - prob = .05):')\n",
    "# interpret p-value\n",
    "alpha = 1.0 - prob\n",
    "print('p=%.3f, significance=%.3f' % (p, alpha))\n",
    "print('so compare p, %.3f, with alpha, %.3f:' % (p, alpha))\n",
    "print()\n",
    "if p <= alpha:\n",
    "    print('p <= alpha')\n",
    "    print('%.3f <= %.3f' % (p, alpha))\n",
    "    print('Dependent (reject H0)')\n",
    "else:\n",
    "    print('p > alpha')\n",
    "    print('%.3f > %.3f' % (p, alpha))\n",
    "    print('Independent (fail to reject H0)')"
   ]
  },
  {
   "cell_type": "markdown",
   "metadata": {},
   "source": [
    "# Example 2:\n",
    "We can tie all of this together and demonstrate the chi-squared significance test using a contrived contingency table.\n",
    "\n",
    "A contingency table is defined below that has a different number of observations for each population (row), but a similar proportion across each group (column). Given the similar proportions, we would expect the test to find that the groups are similar and that the variables are independent (fail to reject the null hypothesis, or H0)."
   ]
  },
  {
   "cell_type": "code",
   "execution_count": 12,
   "metadata": {},
   "outputs": [
    {
     "name": "stdout",
     "output_type": "stream",
     "text": [
      "TABLE USED FOR DATA:\n",
      "[[10, 20, 30], [6, 9, 17]]\n",
      "\n",
      "degrees of freedom (dof) =2\n",
      "\n",
      "calculated expected frequency table = \n",
      "[[10.43478261 18.91304348 30.65217391]\n",
      " [ 5.56521739 10.08695652 16.34782609]]\n",
      "\n",
      "probability=0.950, critical=5.991, stat=0.272\n",
      "Independent (fail to reject H0)\n",
      "\n",
      "significance=0.050, p=0.873\n",
      "Independent (fail to reject H0)\n"
     ]
    }
   ],
   "source": [
    "# chi-squared test with similar proportions\n",
    "from scipy.stats import chi2_contingency\n",
    "from scipy.stats import chi2\n",
    "# contingency table\n",
    "table = [  [10, 20, 30],\n",
    "           [6,  9,  17]]\n",
    "print('TABLE USED FOR DATA:')\n",
    "print(table)\n",
    "print()\n",
    "\n",
    "stat, p, dof, expected = chi2_contingency(table)\n",
    "print('degrees of freedom (dof) =%d' % dof)\n",
    "print()\n",
    "print('calculated expected frequency table = ')\n",
    "print(expected)\n",
    "print()\n",
    "\n",
    "# interpret test-statistic\n",
    "prob = 0.95\n",
    "critical = chi2.ppf(prob, dof)\n",
    "print('probability=%.3f, critical=%.3f, stat=%.3f' % (prob, critical, stat))\n",
    "\n",
    "if abs(stat) >= critical:\n",
    "    print('Dependent (reject H0)')\n",
    "else:\n",
    "    print('Independent (fail to reject H0)')\n",
    "print()\n",
    "\n",
    "# interpret p-value\n",
    "alpha = 1.0 - prob\n",
    "print('significance=%.3f, p=%.3f' % (alpha, p))\n",
    "if p <= alpha:\n",
    "    print('Dependent (reject H0)')\n",
    "else:\n",
    "    print('Independent (fail to reject H0)')"
   ]
  },
  {
   "cell_type": "markdown",
   "metadata": {},
   "source": [
    "Running the example first prints the contingency table. The test is calculated and the degrees of freedom (dof) is reported as 2, which makes sense given:\n",
    "```\n",
    "degrees of freedom: (rows - 1) * (cols - 1)\n",
    "degrees of freedom: (2 - 1) * (3 - 1)\n",
    "degrees of freedom: 1 * 2\n",
    "degrees of freedom: 2\n",
    "```\n",
    "Next, the calculated expected frequency table is printed and we can see that indeed the observed contingency table does appear to match via an eyeball check of the numbers.\n",
    "\n",
    "The critical value is calculated and interpreted, finding that indeed the variables are independent (fail to reject H0). The interpretation of the p-value makes the same finding.\n",
    "```\n",
    "[[10, 20, 30], [6, 9, 17]]\n",
    "dof=2\n",
    "[[10.43478261 18.91304348 30.65217391]\n",
    " [ 5.56521739 10.08695652 16.34782609]]\n",
    "probability=0.950, critical=5.991, stat=0.272\n",
    "Independent (fail to reject H0)\n",
    "significance=0.050, p=0.873\n",
    "Independent (fail to reject H0)\n",
    "```"
   ]
  },
  {
   "cell_type": "markdown",
   "metadata": {},
   "source": [
    "Tutorial used: https://machinelearningmastery.com/chi-squared-test-for-machine-learning/"
   ]
  },
  {
   "cell_type": "markdown",
   "metadata": {},
   "source": [
    "# Feature Engineering Using Chi-Squared\n",
    "\n",
    "Chi-Squared can also be used for feature engineering. This example is from Codeup's curriculum."
   ]
  },
  {
   "cell_type": "code",
   "execution_count": 13,
   "metadata": {},
   "outputs": [],
   "source": [
    "import pandas as pd\n",
    "import numpy as np\n",
    "import matplotlib.pyplot as plt\n",
    "import seaborn as sns\n",
    "from sklearn.model_selection import train_test_split\n",
    "from sklearn.preprocessing import StandardScaler, MinMaxScaler\n",
    "import warnings\n",
    "warnings.filterwarnings(\"ignore\")\n",
    "\n",
    "import wrangle\n",
    "\n",
    "# acquire data and remove null values \n",
    "df = wrangle.wrangle_grades()\n",
    "\n",
    "# split into train and test\n",
    "train, test = wrangle.split_my_data(df)\n",
    "\n",
    "# scale data using standard scaler\n",
    "scaler, train, test = wrangle.standard_scaler(train, test)\n",
    "\n",
    "# to return to original values\n",
    "# scaler, train, test = scaling.my_inv_transform(scaler, train, test)\n",
    "\n",
    "X_train = train.drop(columns='final_grade')\n",
    "y_train = train[['final_grade']]\n",
    "X_test = test.drop(columns='final_grade')\n",
    "y_test = test[['final_grade']]"
   ]
  },
  {
   "cell_type": "markdown",
   "metadata": {},
   "source": [
    "## Filter Methods\n",
    "- Goals: You want to keep the attributes with highest correlation to the target variable and of those features, if two are highly correlated with each other, remove one of them.\n",
    "- Filter and take only the subset of the relevant features.\n",
    "- The model is built after selecting the features.\n",
    "\n",
    "## Correlation Thresholds\n",
    "- The filtering can be done using correlation matrix with Pearson correlation.\n",
    "- For example, if you had a real-estate dataset with 'Floor Area (Sq. Ft.)' and 'Floor Area (Sq. Meters)' as separate features, you can safely remove one of them. Which one should you remove? Well, you'd first calculate all pair-wise correlations. Then, if the correlation between a pair of features is above a given threshold, you'd remove the one that has larger mean absolute correlation with other features."
   ]
  },
  {
   "cell_type": "code",
   "execution_count": 14,
   "metadata": {},
   "outputs": [
    {
     "data": {
      "image/png": "[encoded data removed]",
      "text/plain": [
       "<Figure size 432x360 with 2 Axes>"
      ]
     },
     "metadata": {
      "needs_background": "light"
     },
     "output_type": "display_data"
    }
   ],
   "source": [
    "#Using Pearson Correlation\n",
    "plt.figure(figsize=(6,5))\n",
    "cor = train.corr()\n",
    "sns.heatmap(cor, annot=True, cmap=plt.cm.Reds)\n",
    "plt.show()"
   ]
  },
  {
   "cell_type": "markdown",
   "metadata": {},
   "source": [
    "To view just the correlations of each attribute with the target variable, and filter down to only those above a certain value:"
   ]
  },
  {
   "cell_type": "code",
   "execution_count": 15,
   "metadata": {},
   "outputs": [
    {
     "data": {
      "text/plain": [
       "exam1          0.984221\n",
       "exam2          0.927348\n",
       "exam3          0.959314\n",
       "final_grade    1.000000\n",
       "Name: final_grade, dtype: float64"
      ]
     },
     "execution_count": 15,
     "metadata": {},
     "output_type": "execute_result"
    }
   ],
   "source": [
    "#Correlation with output variable\n",
    "cor_target = abs(cor[\"final_grade\"])\n",
    "#Selecting highly correlated features\n",
    "relevant_features = cor_target[cor_target>0.5]\n",
    "relevant_features"
   ]
  },
  {
   "cell_type": "markdown",
   "metadata": {},
   "source": [
    "Looking at the correlation of each of these variables, exam 1 is most correlated with final grade and all three exams are correlated with each other. So using this method, we may decide to only use one exam or we may want to create new features, such as exam2_delta = exam2 - exam1\n",
    "\n",
    "### Select K Best\n",
    "- SelectKBest removes all but the highest scoring features\n",
    "- Scores are the test statistic for the chosen function or test (Chi-squared, F-regression, etc.)\n",
    "- We will only look at using Chi-Squared in this study."
   ]
  },
  {
   "cell_type": "code",
   "execution_count": 16,
   "metadata": {},
   "outputs": [],
   "source": [
    "from sklearn.feature_selection import SelectKBest"
   ]
  },
  {
   "cell_type": "markdown",
   "metadata": {},
   "source": [
    "### Using Chi-Squared\n",
    "All values must be positive to use chi-squared in this case. Therefore, we will use the non-scaled values. This is ok since all columns are on the same unit. Otherwise, we could have used a scaling method that keeps all values > 0."
   ]
  },
  {
   "cell_type": "code",
   "execution_count": 18,
   "metadata": {},
   "outputs": [],
   "source": [
    "from sklearn.feature_selection import chi2\n",
    "\n",
    "scaler, train2, test2 = wrangle.my_inv_transform(scaler, train, test)\n",
    "\n",
    "X_train2 = train2.drop(columns='final_grade')\n",
    "y_train2 = train2[['final_grade']]"
   ]
  },
  {
   "cell_type": "code",
   "execution_count": 19,
   "metadata": {},
   "outputs": [
    {
     "name": "stdout",
     "output_type": "stream",
     "text": [
      "2 selected features\n",
      "['exam1', 'exam2']\n"
     ]
    }
   ],
   "source": [
    "chi_selector = SelectKBest(chi2, k=2)\n",
    "\n",
    "chi_selector.fit(X_train2,y_train2)\n",
    "\n",
    "chi_support = chi_selector.get_support()\n",
    "chi_feature = X_train2.loc[:,chi_support].columns.tolist()\n",
    "chi_feature\n",
    "print(str(len(chi_feature)), 'selected features')\n",
    "print(chi_feature)"
   ]
  },
  {
   "cell_type": "markdown",
   "metadata": {},
   "source": [
    "## An interesting note, in the Codeup curriculum where they also checked f-regression, wrapper methods including backward elimination using OLS and recursive feature elimination (RFE), embedded methods including LassoCV, and Linear Dimensionality Reduction including principal component analysis (PCA), the prominant recommendations were to keep exam1 and exam3."
   ]
  },
  {
   "cell_type": "code",
   "execution_count": null,
   "metadata": {},
   "outputs": [],
   "source": []
  }
 ],
 "metadata": {
  "kernelspec": {
   "display_name": "Python 3",
   "language": "python",
   "name": "python3"
  },
  "language_info": {
   "codemirror_mode": {
    "name": "ipython",
    "version": 3
   },
   "file_extension": ".py",
   "mimetype": "text/x-python",
   "name": "python",
   "nbconvert_exporter": "python",
   "pygments_lexer": "ipython3",
   "version": "3.7.3"
  }
 },
 "nbformat": 4,
 "nbformat_minor": 2
}
