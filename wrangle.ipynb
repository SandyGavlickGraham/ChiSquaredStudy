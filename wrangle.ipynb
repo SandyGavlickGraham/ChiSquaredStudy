{
 "cells": [
  {
   "cell_type": "code",
   "execution_count": 1,
   "metadata": {},
   "outputs": [],
   "source": [
    "import warnings\n",
    "warnings.filterwarnings(\"ignore\")\n",
    "\n",
    "import pandas as pd\n",
    "import matplotlib.pyplot as plt\n",
    "import seaborn as sns\n",
    "import numpy as np\n",
    "from sklearn.model_selection import train_test_split\n",
    "from sklearn.preprocessing import StandardScaler, QuantileTransformer, PowerTransformer, RobustScaler, MinMaxScaler\n",
    "import math"
   ]
  },
  {
   "cell_type": "code",
   "execution_count": 2,
   "metadata": {},
   "outputs": [],
   "source": [
    "def wrangle_grades():\n",
    "    grades = pd.read_csv(\"student_grades.csv\")\n",
    "    grades.drop(columns='student_id', inplace=True)\n",
    "    grades.replace(r'^\\s*$', np.nan, regex=True, inplace=True)\n",
    "    df = grades.dropna().astype('int')\n",
    "    return df"
   ]
  },
  {
   "cell_type": "code",
   "execution_count": 3,
   "metadata": {},
   "outputs": [],
   "source": [
    "def plot_grade_distributions(df):\n",
    "    # histogram with subplots in matplot lib\n",
    "    plt.figure(figsize=(16, 3))\n",
    "\n",
    "    for i, col in enumerate(['exam1', 'exam2', 'exam3', 'final_grade']):  \n",
    "        plot_number = i + 1 # i starts at 0, but plot nos should start at 1\n",
    "        series = df[col]  \n",
    "        plt.subplot(1,4, plot_number)\n",
    "        plt.title(col)\n",
    "        series.hist(bins=5, density=False, cumulative=False, log=False)\n",
    "    \n",
    "    # we don't want to plot the `student_id` column.\n",
    "    plt.figure(figsize=(8,4))\n",
    "    sns.boxplot(data=df)\n",
    "    plt.show()"
   ]
  },
  {
   "cell_type": "code",
   "execution_count": 4,
   "metadata": {},
   "outputs": [],
   "source": [
    "def split_my_data(data):\n",
    "    '''the function will take a dataframe and returns train and test dataframe split \n",
    "    where 80% is in train, and 20% in test. '''\n",
    "    return train_test_split(data, train_size = .80, random_state = 123)"
   ]
  },
  {
   "cell_type": "code",
   "execution_count": 5,
   "metadata": {},
   "outputs": [],
   "source": [
    "def standard_scaler(train, test):\n",
    "    scaler = StandardScaler(copy=True, with_mean=True, with_std=True).fit(train) # fit the object\n",
    "    train = pd.DataFrame(scaler.transform(train), columns=train.columns.values).set_index([train.index.values])\n",
    "    test = pd.DataFrame(scaler.transform(test), columns=test.columns.values).set_index([test.index.values])\n",
    "    return scaler, train, test"
   ]
  },
  {
   "cell_type": "code",
   "execution_count": 6,
   "metadata": {},
   "outputs": [],
   "source": [
    "# If we wanted to return to original values:\n",
    "def my_inv_transform(scaler, train, test):\n",
    "    train = pd.DataFrame(scaler.inverse_transform(train), columns=train.columns.values).set_index([train.index.values])\n",
    "    test = pd.DataFrame(scaler.inverse_transform(test), columns=test.columns.values).set_index([test.index.values])\n",
    "    return scaler, train, test"
   ]
  },
  {
   "cell_type": "code",
   "execution_count": 7,
   "metadata": {},
   "outputs": [],
   "source": [
    "def uniform_scaler(train, test):\n",
    "    scaler = QuantileTransformer(n_quantiles=100, output_distribution='uniform', random_state=123, copy=True).fit(train)\n",
    "    train = pd.DataFrame(scaler.transform(train), columns=train.columns.values).set_index([train.index.values])\n",
    "    test = pd.DataFrame(scaler.transform(test), columns=test.columns.values).set_index([test.index.values])\n",
    "    return scaler, train, test"
   ]
  },
  {
   "cell_type": "code",
   "execution_count": 12,
   "metadata": {},
   "outputs": [],
   "source": [
    "def gaussian_scaler(train, test, method='yeo-johnson'):\n",
    "    scaler = PowerTransformer(method, standardize=False, copy=True).fit(train)\n",
    "    train = pd.DataFrame(scaler.transform(train), columns=train.columns.values).set_index([train.index.values])\n",
    "    test = pd.DataFrame(scaler.transform(test), columns=test.columns.values).set_index([test.index.values])\n",
    "    return scaler, train, test"
   ]
  },
  {
   "cell_type": "code",
   "execution_count": 14,
   "metadata": {},
   "outputs": [],
   "source": [
    "def my_minmax_scaler(train, test, minmax_range=(0,1)):\n",
    "    scaler = MinMaxScaler(copy=True, feature_range=minmax_range).fit(train)\n",
    "    train = pd.DataFrame(scaler.transform(train), columns=train.columns.values).set_index([train.index.values])\n",
    "    test = pd.DataFrame(scaler.transform(test), columns=test.columns.values).set_index([test.index.values])\n",
    "    return scaler, train, test"
   ]
  },
  {
   "cell_type": "code",
   "execution_count": 17,
   "metadata": {},
   "outputs": [],
   "source": [
    "def iqr_robust_scaler(train, test):\n",
    "    scaler = RobustScaler(quantile_range=(25.0,75.0), copy=True, with_centering=True, with_scaling=True).fit(train)\n",
    "    train = pd.DataFrame(scaler.transform(train), columns=train.columns.values).set_index([train.index.values])\n",
    "    test = pd.DataFrame(scaler.transform(test), columns=test.columns.values).set_index([test.index.values])\n",
    "    return scaler, train, test"
   ]
  },
  {
   "cell_type": "code",
   "execution_count": 8,
   "metadata": {},
   "outputs": [
    {
     "data": {
      "image/png": "[encoded data removed]",
      "text/plain": [
       "<Figure size 1152x216 with 4 Axes>"
      ]
     },
     "metadata": {
      "needs_background": "light"
     },
     "output_type": "display_data"
    },
    {
     "data": {
      "image/png": "[encoded data removed]",
      "text/plain": [
       "<Figure size 576x288 with 1 Axes>"
      ]
     },
     "metadata": {
      "needs_background": "light"
     },
     "output_type": "display_data"
    },
    {
     "name": "stdout",
     "output_type": "stream",
     "text": [
      "train shape: (83, 4)\n",
      "test shape: (21, 4)\n",
      "Mean:\n",
      "[79.12048193 77.80722892 84.69879518 82.25301205]\n",
      "Standard Deviation:\n",
      "[14.137361924255325, 10.341701558074101, 8.625731943461883, 10.868151075276584]\n"
     ]
    }
   ],
   "source": [
    "if __name__ == '__main__':\n",
    "    df = wrangle_grades()\n",
    "    plot_grade_distributions(df)\n",
    "    train, test = split_my_data(data=df)\n",
    "    print('train shape:', train.shape)\n",
    "    print('test shape:', test.shape)\n",
    "    scaler, train_scaled, test_scaled = standard_scaler(train, test)\n",
    "    print(\"Mean:\") \n",
    "    print(scaler.mean_)\n",
    "    print(\"Standard Deviation:\")\n",
    "    print([math.sqrt(i) for i in scaler.var_])"
   ]
  },
  {
   "cell_type": "code",
   "execution_count": 9,
   "metadata": {},
   "outputs": [
    {
     "data": {
      "text/html": [
       "<div>\n",
       "<style scoped>\n",
       "    .dataframe tbody tr th:only-of-type {\n",
       "        vertical-align: middle;\n",
       "    }\n",
       "\n",
       "    .dataframe tbody tr th {\n",
       "        vertical-align: top;\n",
       "    }\n",
       "\n",
       "    .dataframe thead th {\n",
       "        text-align: right;\n",
       "    }\n",
       "</style>\n",
       "<table border=\"1\" class=\"dataframe\">\n",
       "  <thead>\n",
       "    <tr style=\"text-align: right;\">\n",
       "      <th></th>\n",
       "      <th>exam1</th>\n",
       "      <th>exam2</th>\n",
       "      <th>exam3</th>\n",
       "      <th>final_grade</th>\n",
       "    </tr>\n",
       "  </thead>\n",
       "  <tbody>\n",
       "    <tr>\n",
       "      <th>50</th>\n",
       "      <td>57</td>\n",
       "      <td>65</td>\n",
       "      <td>75</td>\n",
       "      <td>65</td>\n",
       "    </tr>\n",
       "    <tr>\n",
       "      <th>29</th>\n",
       "      <td>83</td>\n",
       "      <td>80</td>\n",
       "      <td>86</td>\n",
       "      <td>85</td>\n",
       "    </tr>\n",
       "    <tr>\n",
       "      <th>54</th>\n",
       "      <td>85</td>\n",
       "      <td>83</td>\n",
       "      <td>87</td>\n",
       "      <td>87</td>\n",
       "    </tr>\n",
       "    <tr>\n",
       "      <th>19</th>\n",
       "      <td>92</td>\n",
       "      <td>89</td>\n",
       "      <td>94</td>\n",
       "      <td>93</td>\n",
       "    </tr>\n",
       "    <tr>\n",
       "      <th>59</th>\n",
       "      <td>73</td>\n",
       "      <td>70</td>\n",
       "      <td>75</td>\n",
       "      <td>76</td>\n",
       "    </tr>\n",
       "  </tbody>\n",
       "</table>\n",
       "</div>"
      ],
      "text/plain": [
       "    exam1  exam2  exam3  final_grade\n",
       "50     57     65     75           65\n",
       "29     83     80     86           85\n",
       "54     85     83     87           87\n",
       "19     92     89     94           93\n",
       "59     73     70     75           76"
      ]
     },
     "execution_count": 9,
     "metadata": {},
     "output_type": "execute_result"
    }
   ],
   "source": [
    "# train.head()"
   ]
  },
  {
   "cell_type": "code",
   "execution_count": 10,
   "metadata": {},
   "outputs": [
    {
     "data": {
      "text/html": [
       "<div>\n",
       "<style scoped>\n",
       "    .dataframe tbody tr th:only-of-type {\n",
       "        vertical-align: middle;\n",
       "    }\n",
       "\n",
       "    .dataframe tbody tr th {\n",
       "        vertical-align: top;\n",
       "    }\n",
       "\n",
       "    .dataframe thead th {\n",
       "        text-align: right;\n",
       "    }\n",
       "</style>\n",
       "<table border=\"1\" class=\"dataframe\">\n",
       "  <thead>\n",
       "    <tr style=\"text-align: right;\">\n",
       "      <th></th>\n",
       "      <th>exam1</th>\n",
       "      <th>exam2</th>\n",
       "      <th>exam3</th>\n",
       "      <th>final_grade</th>\n",
       "    </tr>\n",
       "  </thead>\n",
       "  <tbody>\n",
       "    <tr>\n",
       "      <th>50</th>\n",
       "      <td>57.0</td>\n",
       "      <td>65.0</td>\n",
       "      <td>75.0</td>\n",
       "      <td>65.0</td>\n",
       "    </tr>\n",
       "    <tr>\n",
       "      <th>29</th>\n",
       "      <td>83.0</td>\n",
       "      <td>80.0</td>\n",
       "      <td>86.0</td>\n",
       "      <td>85.0</td>\n",
       "    </tr>\n",
       "    <tr>\n",
       "      <th>54</th>\n",
       "      <td>85.0</td>\n",
       "      <td>83.0</td>\n",
       "      <td>87.0</td>\n",
       "      <td>87.0</td>\n",
       "    </tr>\n",
       "    <tr>\n",
       "      <th>19</th>\n",
       "      <td>92.0</td>\n",
       "      <td>89.0</td>\n",
       "      <td>94.0</td>\n",
       "      <td>93.0</td>\n",
       "    </tr>\n",
       "    <tr>\n",
       "      <th>59</th>\n",
       "      <td>73.0</td>\n",
       "      <td>70.0</td>\n",
       "      <td>75.0</td>\n",
       "      <td>76.0</td>\n",
       "    </tr>\n",
       "  </tbody>\n",
       "</table>\n",
       "</div>"
      ],
      "text/plain": [
       "    exam1  exam2  exam3  final_grade\n",
       "50   57.0   65.0   75.0         65.0\n",
       "29   83.0   80.0   86.0         85.0\n",
       "54   85.0   83.0   87.0         87.0\n",
       "19   92.0   89.0   94.0         93.0\n",
       "59   73.0   70.0   75.0         76.0"
      ]
     },
     "execution_count": 10,
     "metadata": {},
     "output_type": "execute_result"
    }
   ],
   "source": [
    "# scaler, train, test = my_inv_transform(scaler, train_scaled, test_scaled)\n",
    "# train.head()"
   ]
  },
  {
   "cell_type": "code",
   "execution_count": 11,
   "metadata": {},
   "outputs": [
    {
     "data": {
      "text/html": [
       "<div>\n",
       "<style scoped>\n",
       "    .dataframe tbody tr th:only-of-type {\n",
       "        vertical-align: middle;\n",
       "    }\n",
       "\n",
       "    .dataframe tbody tr th {\n",
       "        vertical-align: top;\n",
       "    }\n",
       "\n",
       "    .dataframe thead th {\n",
       "        text-align: right;\n",
       "    }\n",
       "</style>\n",
       "<table border=\"1\" class=\"dataframe\">\n",
       "  <thead>\n",
       "    <tr style=\"text-align: right;\">\n",
       "      <th></th>\n",
       "      <th>exam1</th>\n",
       "      <th>exam2</th>\n",
       "      <th>exam3</th>\n",
       "      <th>final_grade</th>\n",
       "    </tr>\n",
       "  </thead>\n",
       "  <tbody>\n",
       "    <tr>\n",
       "      <th>50</th>\n",
       "      <td>0.000000</td>\n",
       "      <td>0.000000</td>\n",
       "      <td>0.128049</td>\n",
       "      <td>0.000000</td>\n",
       "    </tr>\n",
       "    <tr>\n",
       "      <th>29</th>\n",
       "      <td>0.560976</td>\n",
       "      <td>0.560976</td>\n",
       "      <td>0.560976</td>\n",
       "      <td>0.560976</td>\n",
       "    </tr>\n",
       "    <tr>\n",
       "      <th>54</th>\n",
       "      <td>0.634146</td>\n",
       "      <td>0.634146</td>\n",
       "      <td>0.634146</td>\n",
       "      <td>0.634146</td>\n",
       "    </tr>\n",
       "    <tr>\n",
       "      <th>19</th>\n",
       "      <td>0.713415</td>\n",
       "      <td>0.713415</td>\n",
       "      <td>0.713415</td>\n",
       "      <td>0.713415</td>\n",
       "    </tr>\n",
       "    <tr>\n",
       "      <th>59</th>\n",
       "      <td>0.402439</td>\n",
       "      <td>0.323171</td>\n",
       "      <td>0.128049</td>\n",
       "      <td>0.323171</td>\n",
       "    </tr>\n",
       "  </tbody>\n",
       "</table>\n",
       "</div>"
      ],
      "text/plain": [
       "       exam1     exam2     exam3  final_grade\n",
       "50  0.000000  0.000000  0.128049     0.000000\n",
       "29  0.560976  0.560976  0.560976     0.560976\n",
       "54  0.634146  0.634146  0.634146     0.634146\n",
       "19  0.713415  0.713415  0.713415     0.713415\n",
       "59  0.402439  0.323171  0.128049     0.323171"
      ]
     },
     "execution_count": 11,
     "metadata": {},
     "output_type": "execute_result"
    }
   ],
   "source": [
    "# scaler, train_scaled, test_scaled = uniform_scaler(train, test)\n",
    "\n",
    "# train_scaled.head()"
   ]
  },
  {
   "cell_type": "code",
   "execution_count": 13,
   "metadata": {},
   "outputs": [
    {
     "data": {
      "text/html": [
       "<div>\n",
       "<style scoped>\n",
       "    .dataframe tbody tr th:only-of-type {\n",
       "        vertical-align: middle;\n",
       "    }\n",
       "\n",
       "    .dataframe tbody tr th {\n",
       "        vertical-align: top;\n",
       "    }\n",
       "\n",
       "    .dataframe thead th {\n",
       "        text-align: right;\n",
       "    }\n",
       "</style>\n",
       "<table border=\"1\" class=\"dataframe\">\n",
       "  <thead>\n",
       "    <tr style=\"text-align: right;\">\n",
       "      <th></th>\n",
       "      <th>exam1</th>\n",
       "      <th>exam2</th>\n",
       "      <th>exam3</th>\n",
       "      <th>final_grade</th>\n",
       "    </tr>\n",
       "  </thead>\n",
       "  <tbody>\n",
       "    <tr>\n",
       "      <th>50</th>\n",
       "      <td>59.551809</td>\n",
       "      <td>1.966271</td>\n",
       "      <td>15.324354</td>\n",
       "      <td>41.133319</td>\n",
       "    </tr>\n",
       "    <tr>\n",
       "      <th>29</th>\n",
       "      <td>87.144136</td>\n",
       "      <td>1.999806</td>\n",
       "      <td>16.530168</td>\n",
       "      <td>51.903988</td>\n",
       "    </tr>\n",
       "    <tr>\n",
       "      <th>54</th>\n",
       "      <td>89.272127</td>\n",
       "      <td>2.005464</td>\n",
       "      <td>16.635884</td>\n",
       "      <td>52.959935</td>\n",
       "    </tr>\n",
       "    <tr>\n",
       "      <th>19</th>\n",
       "      <td>96.725441</td>\n",
       "      <td>2.015962</td>\n",
       "      <td>17.359585</td>\n",
       "      <td>56.107557</td>\n",
       "    </tr>\n",
       "    <tr>\n",
       "      <th>59</th>\n",
       "      <td>76.515142</td>\n",
       "      <td>1.978563</td>\n",
       "      <td>15.324354</td>\n",
       "      <td>47.107256</td>\n",
       "    </tr>\n",
       "  </tbody>\n",
       "</table>\n",
       "</div>"
      ],
      "text/plain": [
       "        exam1     exam2      exam3  final_grade\n",
       "50  59.551809  1.966271  15.324354    41.133319\n",
       "29  87.144136  1.999806  16.530168    51.903988\n",
       "54  89.272127  2.005464  16.635884    52.959935\n",
       "19  96.725441  2.015962  17.359585    56.107557\n",
       "59  76.515142  1.978563  15.324354    47.107256"
      ]
     },
     "execution_count": 13,
     "metadata": {},
     "output_type": "execute_result"
    }
   ],
   "source": [
    "# scaler, train_scaled, test_scaled = gaussian_scaler(train, test, method='yeo-johnson')\n",
    "\n",
    "# train_scaled.head()"
   ]
  },
  {
   "cell_type": "code",
   "execution_count": 15,
   "metadata": {},
   "outputs": [
    {
     "data": {
      "text/html": [
       "<div>\n",
       "<style scoped>\n",
       "    .dataframe tbody tr th:only-of-type {\n",
       "        vertical-align: middle;\n",
       "    }\n",
       "\n",
       "    .dataframe tbody tr th {\n",
       "        vertical-align: top;\n",
       "    }\n",
       "\n",
       "    .dataframe thead th {\n",
       "        text-align: right;\n",
       "    }\n",
       "</style>\n",
       "<table border=\"1\" class=\"dataframe\">\n",
       "  <thead>\n",
       "    <tr style=\"text-align: right;\">\n",
       "      <th></th>\n",
       "      <th>exam1</th>\n",
       "      <th>exam2</th>\n",
       "      <th>exam3</th>\n",
       "      <th>final_grade</th>\n",
       "    </tr>\n",
       "  </thead>\n",
       "  <tbody>\n",
       "    <tr>\n",
       "      <th>50</th>\n",
       "      <td>0.000000</td>\n",
       "      <td>0.000000</td>\n",
       "      <td>0.192308</td>\n",
       "      <td>0.00000</td>\n",
       "    </tr>\n",
       "    <tr>\n",
       "      <th>29</th>\n",
       "      <td>0.604651</td>\n",
       "      <td>0.535714</td>\n",
       "      <td>0.615385</td>\n",
       "      <td>0.62500</td>\n",
       "    </tr>\n",
       "    <tr>\n",
       "      <th>54</th>\n",
       "      <td>0.651163</td>\n",
       "      <td>0.642857</td>\n",
       "      <td>0.653846</td>\n",
       "      <td>0.68750</td>\n",
       "    </tr>\n",
       "    <tr>\n",
       "      <th>19</th>\n",
       "      <td>0.813953</td>\n",
       "      <td>0.857143</td>\n",
       "      <td>0.923077</td>\n",
       "      <td>0.87500</td>\n",
       "    </tr>\n",
       "    <tr>\n",
       "      <th>59</th>\n",
       "      <td>0.372093</td>\n",
       "      <td>0.178571</td>\n",
       "      <td>0.192308</td>\n",
       "      <td>0.34375</td>\n",
       "    </tr>\n",
       "  </tbody>\n",
       "</table>\n",
       "</div>"
      ],
      "text/plain": [
       "       exam1     exam2     exam3  final_grade\n",
       "50  0.000000  0.000000  0.192308      0.00000\n",
       "29  0.604651  0.535714  0.615385      0.62500\n",
       "54  0.651163  0.642857  0.653846      0.68750\n",
       "19  0.813953  0.857143  0.923077      0.87500\n",
       "59  0.372093  0.178571  0.192308      0.34375"
      ]
     },
     "execution_count": 15,
     "metadata": {},
     "output_type": "execute_result"
    }
   ],
   "source": [
    "# scaler, train_scaled, test_scaled = my_minmax_scaler(train, test)\n",
    "\n",
    "# train_scaled.head()"
   ]
  },
  {
   "cell_type": "code",
   "execution_count": 18,
   "metadata": {},
   "outputs": [
    {
     "data": {
      "text/html": [
       "<div>\n",
       "<style scoped>\n",
       "    .dataframe tbody tr th:only-of-type {\n",
       "        vertical-align: middle;\n",
       "    }\n",
       "\n",
       "    .dataframe tbody tr th {\n",
       "        vertical-align: top;\n",
       "    }\n",
       "\n",
       "    .dataframe thead th {\n",
       "        text-align: right;\n",
       "    }\n",
       "</style>\n",
       "<table border=\"1\" class=\"dataframe\">\n",
       "  <thead>\n",
       "    <tr style=\"text-align: right;\">\n",
       "      <th></th>\n",
       "      <th>exam1</th>\n",
       "      <th>exam2</th>\n",
       "      <th>exam3</th>\n",
       "      <th>final_grade</th>\n",
       "    </tr>\n",
       "  </thead>\n",
       "  <tbody>\n",
       "    <tr>\n",
       "      <th>50</th>\n",
       "      <td>-1.000000</td>\n",
       "      <td>-0.526316</td>\n",
       "      <td>-0.6250</td>\n",
       "      <td>-0.761905</td>\n",
       "    </tr>\n",
       "    <tr>\n",
       "      <th>29</th>\n",
       "      <td>0.181818</td>\n",
       "      <td>0.263158</td>\n",
       "      <td>0.0625</td>\n",
       "      <td>0.190476</td>\n",
       "    </tr>\n",
       "    <tr>\n",
       "      <th>54</th>\n",
       "      <td>0.272727</td>\n",
       "      <td>0.421053</td>\n",
       "      <td>0.1250</td>\n",
       "      <td>0.285714</td>\n",
       "    </tr>\n",
       "    <tr>\n",
       "      <th>19</th>\n",
       "      <td>0.590909</td>\n",
       "      <td>0.736842</td>\n",
       "      <td>0.5625</td>\n",
       "      <td>0.571429</td>\n",
       "    </tr>\n",
       "    <tr>\n",
       "      <th>59</th>\n",
       "      <td>-0.272727</td>\n",
       "      <td>-0.263158</td>\n",
       "      <td>-0.6250</td>\n",
       "      <td>-0.238095</td>\n",
       "    </tr>\n",
       "  </tbody>\n",
       "</table>\n",
       "</div>"
      ],
      "text/plain": [
       "       exam1     exam2   exam3  final_grade\n",
       "50 -1.000000 -0.526316 -0.6250    -0.761905\n",
       "29  0.181818  0.263158  0.0625     0.190476\n",
       "54  0.272727  0.421053  0.1250     0.285714\n",
       "19  0.590909  0.736842  0.5625     0.571429\n",
       "59 -0.272727 -0.263158 -0.6250    -0.238095"
      ]
     },
     "execution_count": 18,
     "metadata": {},
     "output_type": "execute_result"
    }
   ],
   "source": [
    "# scaler, train_scaled, test_scaled = iqr_robust_scaler(train, test)\n",
    "\n",
    "# train_scaled.head()"
   ]
  },
  {
   "cell_type": "code",
   "execution_count": null,
   "metadata": {},
   "outputs": [],
   "source": []
  }
 ],
 "metadata": {
  "kernelspec": {
   "display_name": "Python 3",
   "language": "python",
   "name": "python3"
  },
  "language_info": {
   "codemirror_mode": {
    "name": "ipython",
    "version": 3
   },
   "file_extension": ".py",
   "mimetype": "text/x-python",
   "name": "python",
   "nbconvert_exporter": "python",
   "pygments_lexer": "ipython3",
   "version": "3.7.3"
  }
 },
 "nbformat": 4,
 "nbformat_minor": 2
}
